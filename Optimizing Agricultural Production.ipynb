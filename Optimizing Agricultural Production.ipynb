{
 "cells": [
  {
   "cell_type": "code",
   "execution_count": 1,
   "id": "513a6a6a",
   "metadata": {},
   "outputs": [],
   "source": [
    "import numpy as np\n",
    "import pandas as pd\n",
    "import seaborn as sns\n",
    "import matplotlib.pyplot as plt\n",
    "from ipywidgets import interact\n",
    "from sklearn.cluster import KMeans"
   ]
  },
  {
   "cell_type": "code",
   "execution_count": 2,
   "id": "a07ee467",
   "metadata": {},
   "outputs": [],
   "source": [
    "data = pd.read_csv('crop_recommendation.csv')"
   ]
  },
  {
   "cell_type": "code",
   "execution_count": 3,
   "id": "aa1fbc3a",
   "metadata": {},
   "outputs": [
    {
     "name": "stdout",
     "output_type": "stream",
     "text": [
      "Shape of the Dataset: (2200, 8)\n"
     ]
    }
   ],
   "source": [
    "print(\"Shape of the Dataset:\",data.shape)"
   ]
  },
  {
   "cell_type": "code",
   "execution_count": 4,
   "id": "3a82e50a",
   "metadata": {},
   "outputs": [
    {
     "data": {
      "text/html": [
       "<div>\n",
       "<style scoped>\n",
       "    .dataframe tbody tr th:only-of-type {\n",
       "        vertical-align: middle;\n",
       "    }\n",
       "\n",
       "    .dataframe tbody tr th {\n",
       "        vertical-align: top;\n",
       "    }\n",
       "\n",
       "    .dataframe thead th {\n",
       "        text-align: right;\n",
       "    }\n",
       "</style>\n",
       "<table border=\"1\" class=\"dataframe\">\n",
       "  <thead>\n",
       "    <tr style=\"text-align: right;\">\n",
       "      <th></th>\n",
       "      <th>N</th>\n",
       "      <th>P</th>\n",
       "      <th>K</th>\n",
       "      <th>temperature</th>\n",
       "      <th>humidity</th>\n",
       "      <th>ph</th>\n",
       "      <th>rainfall</th>\n",
       "      <th>label</th>\n",
       "    </tr>\n",
       "  </thead>\n",
       "  <tbody>\n",
       "    <tr>\n",
       "      <th>0</th>\n",
       "      <td>90</td>\n",
       "      <td>42</td>\n",
       "      <td>43</td>\n",
       "      <td>20.879744</td>\n",
       "      <td>82.002744</td>\n",
       "      <td>6.502985</td>\n",
       "      <td>202.935536</td>\n",
       "      <td>rice</td>\n",
       "    </tr>\n",
       "    <tr>\n",
       "      <th>1</th>\n",
       "      <td>85</td>\n",
       "      <td>58</td>\n",
       "      <td>41</td>\n",
       "      <td>21.770462</td>\n",
       "      <td>80.319644</td>\n",
       "      <td>7.038096</td>\n",
       "      <td>226.655537</td>\n",
       "      <td>rice</td>\n",
       "    </tr>\n",
       "    <tr>\n",
       "      <th>2</th>\n",
       "      <td>60</td>\n",
       "      <td>55</td>\n",
       "      <td>44</td>\n",
       "      <td>23.004459</td>\n",
       "      <td>82.320763</td>\n",
       "      <td>7.840207</td>\n",
       "      <td>263.964248</td>\n",
       "      <td>rice</td>\n",
       "    </tr>\n",
       "    <tr>\n",
       "      <th>3</th>\n",
       "      <td>74</td>\n",
       "      <td>35</td>\n",
       "      <td>40</td>\n",
       "      <td>26.491096</td>\n",
       "      <td>80.158363</td>\n",
       "      <td>6.980401</td>\n",
       "      <td>242.864034</td>\n",
       "      <td>rice</td>\n",
       "    </tr>\n",
       "    <tr>\n",
       "      <th>4</th>\n",
       "      <td>78</td>\n",
       "      <td>42</td>\n",
       "      <td>42</td>\n",
       "      <td>20.130175</td>\n",
       "      <td>81.604873</td>\n",
       "      <td>7.628473</td>\n",
       "      <td>262.717340</td>\n",
       "      <td>rice</td>\n",
       "    </tr>\n",
       "  </tbody>\n",
       "</table>\n",
       "</div>"
      ],
      "text/plain": [
       "    N   P   K  temperature   humidity        ph    rainfall label\n",
       "0  90  42  43    20.879744  82.002744  6.502985  202.935536  rice\n",
       "1  85  58  41    21.770462  80.319644  7.038096  226.655537  rice\n",
       "2  60  55  44    23.004459  82.320763  7.840207  263.964248  rice\n",
       "3  74  35  40    26.491096  80.158363  6.980401  242.864034  rice\n",
       "4  78  42  42    20.130175  81.604873  7.628473  262.717340  rice"
      ]
     },
     "execution_count": 4,
     "metadata": {},
     "output_type": "execute_result"
    }
   ],
   "source": [
    "data.head()"
   ]
  },
  {
   "cell_type": "code",
   "execution_count": 5,
   "id": "1ba9de62",
   "metadata": {},
   "outputs": [],
   "source": [
    "missing_value=[\"na\",\"np\",\"n/a\",\"null\"]\n",
    "data=pd.read_csv(\"crop_recommendation.csv\",na_values=missing_value)"
   ]
  },
  {
   "cell_type": "code",
   "execution_count": 6,
   "id": "52a2a209",
   "metadata": {},
   "outputs": [
    {
     "data": {
      "text/plain": [
       "N              0\n",
       "P              0\n",
       "K              0\n",
       "temperature    0\n",
       "humidity       0\n",
       "ph             0\n",
       "rainfall       0\n",
       "label          0\n",
       "dtype: int64"
      ]
     },
     "execution_count": 6,
     "metadata": {},
     "output_type": "execute_result"
    }
   ],
   "source": [
    "data.isnull().sum()"
   ]
  },
  {
   "cell_type": "code",
   "execution_count": 7,
   "id": "ca2d0df1",
   "metadata": {},
   "outputs": [
    {
     "data": {
      "text/plain": [
       "rice           100\n",
       "maize          100\n",
       "jute           100\n",
       "cotton         100\n",
       "coconut        100\n",
       "papaya         100\n",
       "orange         100\n",
       "apple          100\n",
       "muskmelon      100\n",
       "watermelon     100\n",
       "grapes         100\n",
       "mango          100\n",
       "banana         100\n",
       "pomegranate    100\n",
       "lentil         100\n",
       "blackgram      100\n",
       "mungbean       100\n",
       "mothbeans      100\n",
       "pigeonpeas     100\n",
       "kidneybeans    100\n",
       "chickpea       100\n",
       "coffee         100\n",
       "Name: label, dtype: int64"
      ]
     },
     "execution_count": 7,
     "metadata": {},
     "output_type": "execute_result"
    }
   ],
   "source": [
    "data['label'].value_counts()"
   ]
  },
  {
   "cell_type": "markdown",
   "id": "9f99f823",
   "metadata": {},
   "source": [
    "# SUMMARY FOR ALL THE CROPS"
   ]
  },
  {
   "cell_type": "code",
   "execution_count": 8,
   "id": "7e36b98f",
   "metadata": {},
   "outputs": [
    {
     "name": "stdout",
     "output_type": "stream",
     "text": [
      "Average ratio of Nitrogen in the soil: 50.55\n",
      "Average ratio of Phosphorus in the soil: 53.36\n",
      "Average ratio of Potassium in the soil: 48.15\n",
      "Average Temperature In Celsius: 25.62\n",
      "Average Relative Humidity in %: 71.48\n",
      "Average Ph Value of the soil: 6.47\n",
      "Average Rainfall In mm: 103.46\n"
     ]
    }
   ],
   "source": [
    "print(\"Average ratio of Nitrogen in the soil: {0:.2f}\".format(data['N'].mean()))\n",
    "print(\"Average ratio of Phosphorus in the soil: {0:.2f}\".format(data['P'].mean()))\n",
    "print(\"Average ratio of Potassium in the soil: {0:.2f}\".format(data['K'].mean()))\n",
    "print(\"Average Temperature In Celsius: {0:.2f}\".format(data['temperature'].mean()))\n",
    "print(\"Average Relative Humidity in %: {0:.2f}\".format(data['humidity'].mean()))\n",
    "print(\"Average Ph Value of the soil: {0:.2f}\".format(data['ph'].mean()))\n",
    "print(\"Average Rainfall In mm: {0:.2f}\".format(data['rainfall'].mean()))"
   ]
  },
  {
   "cell_type": "markdown",
   "id": "ed6487b6",
   "metadata": {},
   "source": [
    "# SUMMARY OF STATISTICS FOR EACH CROP"
   ]
  },
  {
   "cell_type": "code",
   "execution_count": 9,
   "id": "c2189680",
   "metadata": {},
   "outputs": [
    {
     "data": {
      "application/vnd.jupyter.widget-view+json": {
       "model_id": "79178c34038f47b99f48246bdebd1815",
       "version_major": 2,
       "version_minor": 0
      },
      "text/plain": [
       "interactive(children=(Dropdown(description='Crops', options=('rice', 'maize', 'jute', 'cotton', 'coconut', 'pa…"
      ]
     },
     "metadata": {},
     "output_type": "display_data"
    }
   ],
   "source": [
    "@interact\n",
    "\n",
    "def summary(Crops =list(data['label'].value_counts().index)):\n",
    "    x= data[data['label']== Crops]\n",
    "    print(\"...........................................................\")\n",
    "    print(\"Statistics for Nitrogen\")\n",
    "    print(\"Minimum Nitrogen Required:\",x['N'].min())\n",
    "    print(\"Average Nitrogen Required:\",x['N'].mean())\n",
    "    print(\"Maximum Nitrogen Required:\",x['N'].max())\n",
    "    print(\"...........................................................\")\n",
    "    print(\"Statistics for Phosphorus\")\n",
    "    print(\"Minimum Phosphorus Required:\",x['P'].min())\n",
    "    print(\"Average Phosphorus Required:\",x['P'].mean())\n",
    "    print(\"Maximum Phosphorus Required:\",x['P'].max())\n",
    "    print(\"...........................................................\")\n",
    "    print(\"Statistics for Potassium\")\n",
    "    print(\"Minimum Potassium Required:\",x['K'].min())\n",
    "    print(\"Average Potassium Required:\",x['K'].mean())\n",
    "    print(\"Maximum Potassium Required:\",x['K'].max())\n",
    "    print(\"...........................................................\")\n",
    "    print(\"Statistics for Temperature\")\n",
    "    print(\"Minimum Temperature Required:{0:.2f}\".format(x['temperature'].min()))\n",
    "    print(\"Average Temperature Required:{0:.2f}\".format(x['temperature'].mean()))\n",
    "    print(\"Maximum Temperature Required:{0:.2f}\".format(x['temperature'].max()))\n",
    "    print(\"...........................................................\")\n",
    "    print(\"Statistics for Humidity\")\n",
    "    print(\"Minimum humidity Required:{0:.2f}\".format(x['humidity'].min()))\n",
    "    print(\"Average humidity Required:{0:.2f}\".format(x['humidity'].mean()))\n",
    "    print(\"Maximum humidity Required:{0:.2f}\".format(x['humidity'].max()))\n",
    "    print(\"...........................................................\")\n",
    "    print(\"Statistics for Ph\")\n",
    "    print(\"Minimum Ph Required:{0:.2f}\".format(x['ph'].min()))\n",
    "    print(\"Average Ph Required:{0:.2f}\".format(x['ph'].mean()))\n",
    "    print(\"Maximum Ph Required:{0:.2f}\".format(x['ph'].max()))\n",
    "    print(\"...........................................................\")\n",
    "    print(\"Statistics for Rainfall\")\n",
    "    print(\"Minimum Rainfall Required:{0:.2f}\".format(x['rainfall'].min()))\n",
    "    print(\"Average Rainfall Required:{0:.2f}\".format(x['rainfall'].mean()))\n",
    "    print(\"Maximum Rainfall Required:{0:.2f}\".format(x['rainfall'].max()))"
   ]
  },
  {
   "cell_type": "markdown",
   "id": "e8938ef9",
   "metadata": {},
   "source": [
    "# COMPARISON OF AVERAGE REQUIREMENT FOR EACH CROP WITH AVERAGE CONDITIONS"
   ]
  },
  {
   "cell_type": "code",
   "execution_count": 10,
   "id": "cc6647b5",
   "metadata": {
    "scrolled": true
   },
   "outputs": [
    {
     "data": {
      "application/vnd.jupyter.widget-view+json": {
       "model_id": "e0d5ce26e91d482d84230043abbd4262",
       "version_major": 2,
       "version_minor": 0
      },
      "text/plain": [
       "interactive(children=(Dropdown(description='conditions', options=('N', 'P', 'K', 'temperature', 'humidity', 'p…"
      ]
     },
     "metadata": {},
     "output_type": "display_data"
    }
   ],
   "source": [
    "@interact\n",
    "def compare(conditions=['N','P','K','temperature','humidity','ph','rainfall']):\n",
    "    print(\"Average value for\",conditions,\"is:{0:.2f}\".format(data[conditions].mean()))\n",
    "    print(\"........................................................\")\n",
    "    print(\"Rice:{0:.2f}\".format(data[data['label'] ==\"rice\"][conditions].mean()))\n",
    "    print(\"Maize:{0:.2f}\".format(data[data['label'] ==\"maize\"][conditions].mean()))\n",
    "    print(\"Jute:{0:.2f}\".format(data[data['label'] ==\"jute\"][conditions].mean()))\n",
    "    print(\"Coconut:{0:.2f}\".format(data[data['label'] ==\"coconut\"][conditions].mean()))\n",
    "    print(\"Papaya:{0:.2f}\".format(data[data['label'] ==\"papaya\"][conditions].mean()))\n",
    "    print(\"Orange:{0:.2f}\".format(data[data['label'] ==\"orange\"][conditions].mean()))\n",
    "    print(\"Apple:{0:.2f}\".format(data[data['label'] ==\"apple\"][conditions].mean()))\n",
    "    print(\"Muskmelon:{0:.2f}\".format(data[data['label'] ==\"muskmelon\"][conditions].mean()))\n",
    "    print(\"Watermelon:{0:.2f}\".format(data[data['label'] ==\"watermelon\"][conditions].mean()))\n",
    "    print(\"Grapes:{0:.2f}\".format(data[data['label'] ==\"grapes\"][conditions].mean()))\n",
    "    print(\"Mango:{0:.2f}\".format(data[data['label'] ==\"mango\"][conditions].mean()))\n",
    "    print(\"Banana:{0:.2f}\".format(data[data['label'] ==\"banana\"][conditions].mean()))\n",
    "    print(\"Pomegranate:{0:.2f}\".format(data[data['label'] ==\"pomegranate\"][conditions].mean()))\n",
    "    print(\"Lentil:{0:.2f}\".format(data[data['label'] ==\"lentil\"][conditions].mean()))\n",
    "    print(\"Blackgram:{0:.2f}\".format(data[data['label'] ==\"blackgram\"][conditions].mean()))\n",
    "    print(\"Mungbean:{0:.2f}\".format(data[data['label'] ==\"mungbean\"][conditions].mean()))\n",
    "    print(\"Mothbeans:{0:.2f}\".format(data[data['label'] ==\"mothbeans\"][conditions].mean()))\n",
    "    print(\"Pigeonpeas:{0:.2f}\".format(data[data['label'] ==\"pigeonpeas\"][conditions].mean()))\n",
    "    print(\"Kidneybeans:{0:.2f}\".format(data[data['label'] ==\"kidneybeans\"][conditions].mean()))\n",
    "    print(\"Chickpea:{0:.2f}\".format(data[data['label'] ==\"chickpea\"][conditions].mean()))\n",
    "    print(\"Coffee:{0:.2f}\".format(data[data['label'] ==\"coffee\"][conditions].mean()))"
   ]
  },
  {
   "cell_type": "code",
   "execution_count": 11,
   "id": "0565e47a",
   "metadata": {},
   "outputs": [
    {
     "data": {
      "application/vnd.jupyter.widget-view+json": {
       "model_id": "42eb614ef23048cd9bd93a26bcad8a13",
       "version_major": 2,
       "version_minor": 0
      },
      "text/plain": [
       "interactive(children=(Dropdown(description='conditions', options=('N', 'P', 'K', 'temperature', 'humidity', 'p…"
      ]
     },
     "metadata": {},
     "output_type": "display_data"
    }
   ],
   "source": [
    "@interact\n",
    "def compare(conditions = ['N','P','K','temperature','humidity','ph','rainfall']):\n",
    "    print(\"Crops which require more than average\",conditions,'\\n')\n",
    "    print(data[data[conditions]>data[conditions].mean()]['label'].unique())\n",
    "    print(\"................................................\")\n",
    "    print(\"Crops which require less than average\",conditions,'\\n')\n",
    "    print(data[data[conditions]<data[conditions].mean()]['label'].unique())"
   ]
  },
  {
   "cell_type": "markdown",
   "id": "ea93f4b5",
   "metadata": {},
   "source": [
    "# DISTRIBUTION OF THE SOIL & DIFFERENT CLIMATIC CONDITIONS FOR ALL THE CROPS PRESENT IN THE DATASET"
   ]
  },
  {
   "cell_type": "code",
   "execution_count": 12,
   "id": "9dd241fb",
   "metadata": {},
   "outputs": [
    {
     "name": "stderr",
     "output_type": "stream",
     "text": [
      "D:\\anaconda3\\lib\\site-packages\\seaborn\\distributions.py:2619: FutureWarning: `distplot` is a deprecated function and will be removed in a future version. Please adapt your code to use either `displot` (a figure-level function with similar flexibility) or `histplot` (an axes-level function for histograms).\n",
      "  warnings.warn(msg, FutureWarning)\n",
      "D:\\anaconda3\\lib\\site-packages\\seaborn\\distributions.py:2619: FutureWarning: `distplot` is a deprecated function and will be removed in a future version. Please adapt your code to use either `displot` (a figure-level function with similar flexibility) or `histplot` (an axes-level function for histograms).\n",
      "  warnings.warn(msg, FutureWarning)\n",
      "D:\\anaconda3\\lib\\site-packages\\seaborn\\distributions.py:2619: FutureWarning: `distplot` is a deprecated function and will be removed in a future version. Please adapt your code to use either `displot` (a figure-level function with similar flexibility) or `histplot` (an axes-level function for histograms).\n",
      "  warnings.warn(msg, FutureWarning)\n",
      "D:\\anaconda3\\lib\\site-packages\\seaborn\\distributions.py:2619: FutureWarning: `distplot` is a deprecated function and will be removed in a future version. Please adapt your code to use either `displot` (a figure-level function with similar flexibility) or `histplot` (an axes-level function for histograms).\n",
      "  warnings.warn(msg, FutureWarning)\n",
      "D:\\anaconda3\\lib\\site-packages\\seaborn\\distributions.py:2619: FutureWarning: `distplot` is a deprecated function and will be removed in a future version. Please adapt your code to use either `displot` (a figure-level function with similar flexibility) or `histplot` (an axes-level function for histograms).\n",
      "  warnings.warn(msg, FutureWarning)\n",
      "D:\\anaconda3\\lib\\site-packages\\seaborn\\distributions.py:2619: FutureWarning: `distplot` is a deprecated function and will be removed in a future version. Please adapt your code to use either `displot` (a figure-level function with similar flexibility) or `histplot` (an axes-level function for histograms).\n",
      "  warnings.warn(msg, FutureWarning)\n",
      "D:\\anaconda3\\lib\\site-packages\\seaborn\\distributions.py:2619: FutureWarning: `distplot` is a deprecated function and will be removed in a future version. Please adapt your code to use either `displot` (a figure-level function with similar flexibility) or `histplot` (an axes-level function for histograms).\n",
      "  warnings.warn(msg, FutureWarning)\n"
     ]
    },
    {
     "data": {
      "image/png": "[encoded data removed]",
      "text/plain": [
       "<Figure size 640x480 with 7 Axes>"
      ]
     },
     "metadata": {},
     "output_type": "display_data"
    }
   ],
   "source": [
    "plt.subplot(2,4,1)\n",
    "sns.distplot(data['N'],color='blue')\n",
    "plt.xlabel(\"Ratio of Nitrogen\",fontsize=8)\n",
    "plt.grid()\n",
    "\n",
    "plt.subplot(2,4,2)\n",
    "sns.distplot(data['P'],color='yellow')\n",
    "plt.xlabel(\"Ratio of Phosphorus\",fontsize=8)\n",
    "plt.grid()\n",
    "\n",
    "plt.subplot(2,4,3)\n",
    "sns.distplot(data['K'],color='pink')\n",
    "plt.xlabel(\"Ratio of Potassium\",fontsize=8)\n",
    "plt.grid()\n",
    "\n",
    "plt.subplot(2,4,4)\n",
    "sns.distplot(data['temperature'],color='black')\n",
    "plt.xlabel(\"Temperature\",fontsize=8)\n",
    "plt.grid()\n",
    "\n",
    "plt.subplot(2,4,5)\n",
    "sns.distplot(data['humidity'],color='lightgreen')\n",
    "plt.xlabel(\"Humidity\",fontsize=8)\n",
    "plt.grid()\n",
    "\n",
    "plt.subplot(2,4,6)\n",
    "sns.distplot(data['ph'],color='darkgreen')\n",
    "plt.xlabel(\"Ph\",fontsize=8)\n",
    "plt.grid()\n",
    "\n",
    "plt.subplot(2,4,7)\n",
    "sns.distplot(data['rainfall'],color='grey')\n",
    "plt.xlabel(\"Rainfall\",fontsize=8)\n",
    "plt.grid()\n",
    "\n",
    "plt.suptitle(\"Distribution of Agricultural Conditions\",fontsize=12)\n",
    "plt.tight_layout()\n",
    "plt.show()"
   ]
  },
  {
   "cell_type": "markdown",
   "id": "1aca189b",
   "metadata": {},
   "source": [
    "# SOME INTERESTING FACTS"
   ]
  },
  {
   "cell_type": "code",
   "execution_count": 13,
   "id": "48f3cd7c",
   "metadata": {},
   "outputs": [
    {
     "name": "stdout",
     "output_type": "stream",
     "text": [
      "Some interesting facts:\n",
      "...................................\n",
      "Crops which require very High Ratio of Nitrogen content to grow: ['cotton']\n",
      "Crops which require very High Ratio of Phosphorus content to grow: ['grapes' 'apple']\n",
      "Crops which require very High Ratio of Potassium content to grow: ['grapes' 'apple']\n",
      "Crops which require very High Temperature to grow: ['grapes' 'papaya']\n",
      "Crops which require very Humidity to grow: ['coconut']\n",
      "Crops which require very Rainfall to grow: ['rice' 'papaya' 'coconut']\n",
      "Crops which require very Ph to grow: ['mothbeans']\n",
      "......................................\n",
      "Crops which require very Low Ratio of Nitrogen content to grow: ['kidneybeans' 'pigeonpeas' 'mothbeans' 'mungbean' 'lentil' 'pomegranate'\n",
      " 'mango' 'grapes' 'apple' 'orange' 'coconut']\n",
      "Crops which require very Low Ratio of Phosphorus content to grow: ['pomegranate' 'watermelon' 'muskmelon' 'orange' 'coconut']\n",
      "Crops which require very Low Ratio of Potassium content to grow: ['orange']\n",
      "Crops which require very Low Temperature to grow: ['grapes']\n",
      "Crops which require very Low Humidity to grow: ['chickpea']\n",
      "Crops which require very Low Rainfall to grow: ['muskmelon']\n",
      "Crops which require very Low Ph to grow: ['mothbeans']\n"
     ]
    }
   ],
   "source": [
    "print(\"Some interesting facts:\")\n",
    "print(\"...................................\")\n",
    "print(\"Crops which require very High Ratio of Nitrogen content to grow:\",data[data['N']>120]['label'].unique())\n",
    "print(\"Crops which require very High Ratio of Phosphorus content to grow:\",data[data['P']>120]['label'].unique())\n",
    "print(\"Crops which require very High Ratio of Potassium content to grow:\",data[data['K']>200]['label'].unique())\n",
    "print(\"Crops which require very High Temperature to grow:\",data[data['temperature']>40]['label'].unique())\n",
    "print(\"Crops which require very Humidity to grow:\",data[data['humidity']>95]['label'].unique())\n",
    "print(\"Crops which require very Rainfall to grow:\",data[data['rainfall']>200]['label'].unique())\n",
    "print(\"Crops which require very Ph to grow:\",data[data['ph']>9]['label'].unique())\n",
    "print(\"......................................\")\n",
    "print(\"Crops which require very Low Ratio of Nitrogen content to grow:\",data[data['N']<5]['label'].unique())\n",
    "print(\"Crops which require very Low Ratio of Phosphorus content to grow:\",data[data['P']<6]['label'].unique())\n",
    "print(\"Crops which require very Low Ratio of Potassium content to grow:\",data[data['K']<6]['label'].unique())\n",
    "print(\"Crops which require very Low Temperature to grow:\",data[data['temperature']<9]['label'].unique())\n",
    "print(\"Crops which require very Low Humidity to grow:\",data[data['humidity']<15]['label'].unique())\n",
    "print(\"Crops which require very Low Rainfall to grow:\",data[data['rainfall']<22]['label'].unique())\n",
    "print(\"Crops which require very Low Ph to grow:\",data[data['ph']<4]['label'].unique())"
   ]
  },
  {
   "cell_type": "markdown",
   "id": "4bd9feeb",
   "metadata": {},
   "source": [
    "# CROPS GROWN ACCORDING TO DIFFERENT SEASONS"
   ]
  },
  {
   "cell_type": "code",
   "execution_count": 14,
   "id": "bbc94316",
   "metadata": {},
   "outputs": [
    {
     "name": "stdout",
     "output_type": "stream",
     "text": [
      "Crops which can be grown in summer: ['pigeonpeas' 'mothbeans' 'blackgram' 'mango' 'grapes' 'orange' 'papaya']\n",
      "Crops which can be grown in winter: ['grapes']\n",
      "Crops which can be grown in rainy season: ['rice' 'papaya' 'coconut']\n"
     ]
    }
   ],
   "source": [
    "print(\"Crops which can be grown in summer:\",data[(data['temperature']>30) & (data['humidity']>50)]['label'].unique())\n",
    "print(\"Crops which can be grown in winter:\",data[(data['temperature']<10) & (data['humidity']>30)]['label'].unique())\n",
    "print(\"Crops which can be grown in rainy season:\",data[(data['rainfall']>200) & (data['humidity']>30)]['label'].unique())\n"
   ]
  },
  {
   "cell_type": "markdown",
   "id": "f915f85a",
   "metadata": {},
   "source": [
    "# CLUSTERING SIMILAR CROPS"
   ]
  },
  {
   "cell_type": "code",
   "execution_count": 15,
   "id": "547cf6d4",
   "metadata": {},
   "outputs": [],
   "source": [
    "from sklearn.cluster import KMeans"
   ]
  },
  {
   "cell_type": "code",
   "execution_count": 16,
   "id": "479921f7",
   "metadata": {
    "scrolled": true
   },
   "outputs": [
    {
     "name": "stdout",
     "output_type": "stream",
     "text": [
      "(2200, 7)\n"
     ]
    }
   ],
   "source": [
    "x=data.drop(['label'],axis=1)\n",
    "x= x.values\n",
    "print(x.shape)"
   ]
  },
  {
   "cell_type": "code",
   "execution_count": 28,
   "id": "2997549e",
   "metadata": {},
   "outputs": [],
   "source": [
    "wcss=[]\n",
    "for i in range(1,11):\n",
    "    kmeans = KMeans(n_clusters = i, init = 'k-means++', max_iter = 300, n_init = 10, random_state = 0)\n",
    "    kmeans.fit(x)\n",
    "    wcss_iter = kmeans.inertia_\n",
    "    wcss.append(wcss_iter)"
   ]
  },
  {
   "cell_type": "code",
   "execution_count": 29,
   "id": "8a9c0a00",
   "metadata": {},
   "outputs": [
    {
     "data": {
      "text/plain": [
       "[18820170.46364589,\n",
       " 12070916.353533497,\n",
       " 7423970.865410883,\n",
       " 5337369.950298392,\n",
       " 4417511.116768208,\n",
       " 3748646.207999499,\n",
       " 3122776.0933495285,\n",
       " 2727858.093756842,\n",
       " 2374020.0367853655,\n",
       " 2132297.3163274396]"
      ]
     },
     "execution_count": 29,
     "metadata": {},
     "output_type": "execute_result"
    }
   ],
   "source": [
    "wcss"
   ]
  },
  {
   "cell_type": "code",
   "execution_count": 30,
   "id": "30d80d5f",
   "metadata": {},
   "outputs": [
    {
     "data": {
      "image/png": "[encoded data removed]",
      "text/plain": [
       "<Figure size 640x480 with 1 Axes>"
      ]
     },
     "metadata": {},
     "output_type": "display_data"
    }
   ],
   "source": [
    "number_clusters = range(1,11)\n",
    "plt.plot(number_clusters,wcss)\n",
    "plt.title('The Elbow Method')\n",
    "plt.xlabel('Number Of Cluster')\n",
    "plt.ylabel('Within-Cluster Sum Of Squares')\n",
    "plt.show()"
   ]
  },
  {
   "cell_type": "code",
   "execution_count": 31,
   "id": "14afd960",
   "metadata": {},
   "outputs": [
    {
     "name": "stdout",
     "output_type": "stream",
     "text": [
      "Crops in First Cluster: ['maize' 'chickpea' 'kidneybeans' 'pigeonpeas' 'mothbeans' 'mungbean'\n",
      " 'blackgram' 'lentil' 'pomegranate' 'mango' 'orange' 'papaya' 'coconut']\n",
      "..................................................\n",
      "Crops in Second Cluster: ['rice' 'pigeonpeas' 'papaya' 'coconut' 'jute' 'coffee']\n",
      "..................................................\n",
      "Crops in Third Cluster: ['grapes' 'apple']\n",
      "..................................................\n",
      "Crops in Fourth Cluster: ['maize' 'banana' 'watermelon' 'muskmelon' 'papaya' 'cotton' 'coffee']\n",
      "..................................................\n"
     ]
    }
   ],
   "source": [
    "km = KMeans(4)\n",
    "y_means = km.fit_predict(x)\n",
    "\n",
    "a = data['label']\n",
    "y_means = pd.DataFrame(y_means)\n",
    "z = pd.concat([y_means, a],axis=1)\n",
    "z = z.rename(columns = {0:'cluster'})\n",
    "\n",
    "print(\"Crops in First Cluster:\",z[z['cluster']==0]['label'].unique())\n",
    "print('..................................................')\n",
    "print(\"Crops in Second Cluster:\",z[z['cluster']==1]['label'].unique())\n",
    "print('..................................................')\n",
    "print(\"Crops in Third Cluster:\",z[z['cluster']==2]['label'].unique())\n",
    "print('..................................................')\n",
    "print(\"Crops in Fourth Cluster:\",z[z['cluster']==3]['label'].unique())\n",
    "print('..................................................')\n",
    "\n",
    "\n"
   ]
  },
  {
   "cell_type": "markdown",
   "id": "08bccee1",
   "metadata": {},
   "source": [
    "# PRDECTIVE MODELLING"
   ]
  },
  {
   "cell_type": "code",
   "execution_count": 35,
   "id": "2c26190f",
   "metadata": {},
   "outputs": [
    {
     "name": "stdout",
     "output_type": "stream",
     "text": [
      "Shape of x: (2200, 7)\n",
      "Shape of y: (2200,)\n"
     ]
    }
   ],
   "source": [
    "y = data['label']\n",
    "x = data.drop(['label'],axis = 1)\n",
    "\n",
    "print(\"Shape of x:\",x.shape)\n",
    "print(\"Shape of y:\",y.shape)"
   ]
  },
  {
   "cell_type": "code",
   "execution_count": 36,
   "id": "c0de24a1",
   "metadata": {},
   "outputs": [
    {
     "name": "stdout",
     "output_type": "stream",
     "text": [
      "The Shape of x train: (1760, 7)\n",
      "The Shape of x test: (440, 7)\n",
      "The Shape of y train: (1760,)\n",
      "The Shape of y test: (440,)\n"
     ]
    }
   ],
   "source": [
    "\n",
    "from sklearn.model_selection import train_test_split\n",
    "\n",
    "x_train, x_test, y_train, y_test = train_test_split(x, y, test_size = 0.2, random_state = 0)\n",
    "\n",
    "print(\"The Shape of x train:\", x_train.shape)\n",
    "print(\"The Shape of x test:\", x_test.shape)\n",
    "print(\"The Shape of y train:\", y_train.shape)\n",
    "print(\"The Shape of y test:\", y_test.shape)"
   ]
  },
  {
   "cell_type": "code",
   "execution_count": 40,
   "id": "48aa49e6",
   "metadata": {},
   "outputs": [],
   "source": [
    "from sklearn.linear_model import LogisticRegression\n",
    "\n",
    "model = LogisticRegression(solver = 'liblinear' )\n",
    "model.fit(x_train, y_train)\n",
    "y_pred = model.predict(x_test)"
   ]
  },
  {
   "cell_type": "code",
   "execution_count": 41,
   "id": "d0cb6ed7",
   "metadata": {},
   "outputs": [
    {
     "data": {
      "image/png": "[encoded data removed]",
      "text/plain": [
       "<Figure size 1000x1000 with 2 Axes>"
      ]
     },
     "metadata": {},
     "output_type": "display_data"
    }
   ],
   "source": [
    "from sklearn.metrics import confusion_matrix\n",
    "from sklearn.metrics import classification_report\n",
    "\n",
    "plt.rcParams['figure.figsize']=(10,10)\n",
    "cm = confusion_matrix(y_test,y_pred)\n",
    "sns.heatmap(cm,annot = True,cmap='Wistia')\n",
    "plt.title('Confusion Matrix For Logistic Regression',fontsize=15)\n",
    "plt.show()"
   ]
  },
  {
   "cell_type": "code",
   "execution_count": 42,
   "id": "cd31f40c",
   "metadata": {},
   "outputs": [
    {
     "name": "stdout",
     "output_type": "stream",
     "text": [
      "              precision    recall  f1-score   support\n",
      "\n",
      "       apple       1.00      1.00      1.00        18\n",
      "      banana       1.00      0.94      0.97        18\n",
      "   blackgram       0.88      1.00      0.94        22\n",
      "    chickpea       1.00      1.00      1.00        23\n",
      "     coconut       1.00      1.00      1.00        15\n",
      "      coffee       1.00      1.00      1.00        17\n",
      "      cotton       0.89      1.00      0.94        16\n",
      "      grapes       1.00      1.00      1.00        18\n",
      "        jute       0.86      0.86      0.86        21\n",
      " kidneybeans       0.95      1.00      0.98        20\n",
      "      lentil       1.00      0.88      0.94        17\n",
      "       maize       1.00      0.89      0.94        18\n",
      "       mango       1.00      1.00      1.00        21\n",
      "   mothbeans       1.00      0.84      0.91        25\n",
      "    mungbean       0.94      1.00      0.97        17\n",
      "   muskmelon       1.00      1.00      1.00        23\n",
      "      orange       1.00      1.00      1.00        23\n",
      "      papaya       0.87      0.95      0.91        21\n",
      "  pigeonpeas       0.95      0.95      0.95        22\n",
      " pomegranate       1.00      1.00      1.00        23\n",
      "        rice       0.88      0.88      0.88        25\n",
      "  watermelon       1.00      1.00      1.00        17\n",
      "\n",
      "    accuracy                           0.96       440\n",
      "   macro avg       0.96      0.96      0.96       440\n",
      "weighted avg       0.96      0.96      0.96       440\n",
      "\n"
     ]
    }
   ],
   "source": [
    "cr = classification_report(y_test,y_pred)\n",
    "print(cr)"
   ]
  },
  {
   "cell_type": "code",
   "execution_count": 43,
   "id": "c53d346b",
   "metadata": {},
   "outputs": [
    {
     "data": {
      "text/html": [
       "<div>\n",
       "<style scoped>\n",
       "    .dataframe tbody tr th:only-of-type {\n",
       "        vertical-align: middle;\n",
       "    }\n",
       "\n",
       "    .dataframe tbody tr th {\n",
       "        vertical-align: top;\n",
       "    }\n",
       "\n",
       "    .dataframe thead th {\n",
       "        text-align: right;\n",
       "    }\n",
       "</style>\n",
       "<table border=\"1\" class=\"dataframe\">\n",
       "  <thead>\n",
       "    <tr style=\"text-align: right;\">\n",
       "      <th></th>\n",
       "      <th>N</th>\n",
       "      <th>P</th>\n",
       "      <th>K</th>\n",
       "      <th>temperature</th>\n",
       "      <th>humidity</th>\n",
       "      <th>ph</th>\n",
       "      <th>rainfall</th>\n",
       "      <th>label</th>\n",
       "    </tr>\n",
       "  </thead>\n",
       "  <tbody>\n",
       "    <tr>\n",
       "      <th>0</th>\n",
       "      <td>90</td>\n",
       "      <td>42</td>\n",
       "      <td>43</td>\n",
       "      <td>20.879744</td>\n",
       "      <td>82.002744</td>\n",
       "      <td>6.502985</td>\n",
       "      <td>202.935536</td>\n",
       "      <td>rice</td>\n",
       "    </tr>\n",
       "    <tr>\n",
       "      <th>1</th>\n",
       "      <td>85</td>\n",
       "      <td>58</td>\n",
       "      <td>41</td>\n",
       "      <td>21.770462</td>\n",
       "      <td>80.319644</td>\n",
       "      <td>7.038096</td>\n",
       "      <td>226.655537</td>\n",
       "      <td>rice</td>\n",
       "    </tr>\n",
       "    <tr>\n",
       "      <th>2</th>\n",
       "      <td>60</td>\n",
       "      <td>55</td>\n",
       "      <td>44</td>\n",
       "      <td>23.004459</td>\n",
       "      <td>82.320763</td>\n",
       "      <td>7.840207</td>\n",
       "      <td>263.964248</td>\n",
       "      <td>rice</td>\n",
       "    </tr>\n",
       "    <tr>\n",
       "      <th>3</th>\n",
       "      <td>74</td>\n",
       "      <td>35</td>\n",
       "      <td>40</td>\n",
       "      <td>26.491096</td>\n",
       "      <td>80.158363</td>\n",
       "      <td>6.980401</td>\n",
       "      <td>242.864034</td>\n",
       "      <td>rice</td>\n",
       "    </tr>\n",
       "    <tr>\n",
       "      <th>4</th>\n",
       "      <td>78</td>\n",
       "      <td>42</td>\n",
       "      <td>42</td>\n",
       "      <td>20.130175</td>\n",
       "      <td>81.604873</td>\n",
       "      <td>7.628473</td>\n",
       "      <td>262.717340</td>\n",
       "      <td>rice</td>\n",
       "    </tr>\n",
       "  </tbody>\n",
       "</table>\n",
       "</div>"
      ],
      "text/plain": [
       "    N   P   K  temperature   humidity        ph    rainfall label\n",
       "0  90  42  43    20.879744  82.002744  6.502985  202.935536  rice\n",
       "1  85  58  41    21.770462  80.319644  7.038096  226.655537  rice\n",
       "2  60  55  44    23.004459  82.320763  7.840207  263.964248  rice\n",
       "3  74  35  40    26.491096  80.158363  6.980401  242.864034  rice\n",
       "4  78  42  42    20.130175  81.604873  7.628473  262.717340  rice"
      ]
     },
     "execution_count": 43,
     "metadata": {},
     "output_type": "execute_result"
    }
   ],
   "source": [
    "data.head()"
   ]
  },
  {
   "cell_type": "code",
   "execution_count": 44,
   "id": "ba3edc7f",
   "metadata": {},
   "outputs": [
    {
     "name": "stdout",
     "output_type": "stream",
     "text": [
      "The suggested crop for given conditions is: ['rice']\n"
     ]
    },
    {
     "name": "stderr",
     "output_type": "stream",
     "text": [
      "D:\\anaconda3\\lib\\site-packages\\sklearn\\base.py:450: UserWarning: X does not have valid feature names, but LogisticRegression was fitted with feature names\n",
      "  warnings.warn(\n"
     ]
    }
   ],
   "source": [
    "prediction = model.predict(np.array([[90,58,44,26,81,7,202]]))\n",
    "print(\"The suggested crop for given conditions is:\",prediction)"
   ]
  },
  {
   "cell_type": "code",
   "execution_count": null,
   "id": "12124130",
   "metadata": {},
   "outputs": [],
   "source": []
  }
 ],
 "metadata": {
  "kernelspec": {
   "display_name": "Python 3 (ipykernel)",
   "language": "python",
   "name": "python3"
  },
  "language_info": {
   "codemirror_mode": {
    "name": "ipython",
    "version": 3
   },
   "file_extension": ".py",
   "mimetype": "text/x-python",
   "name": "python",
   "nbconvert_exporter": "python",
   "pygments_lexer": "ipython3",
   "version": "3.9.13"
  }
 },
 "nbformat": 4,
 "nbformat_minor": 5
}
